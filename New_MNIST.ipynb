{
  "cells": [
    {
      "cell_type": "markdown",
      "metadata": {
        "id": "view-in-github",
        "colab_type": "text"
      },
      "source": [
        "<a href=\"https://colab.research.google.com/github/Infinity-ops/CIFAR-10_Multi-Label/blob/main/New_MNIST.ipynb\" target=\"_parent\"><img src=\"https://colab.research.google.com/assets/colab-badge.svg\" alt=\"Open In Colab\"/></a>"
      ]
    },
    {
      "cell_type": "code",
      "execution_count": null,
      "metadata": {
        "id": "zyu89zWbiOmy"
      },
      "outputs": [],
      "source": [
        "# Keras imports for the convolutional neural network\n",
        "import keras\n",
        "from keras.datasets import mnist\n",
        "from keras.models import Sequential, load_model, Model\n",
        "from keras.layers import Dense, Dropout, Flatten, Reshape\n",
        "from keras.layers import Conv2D, MaxPooling2D, UpSampling2D, Concatenate,  Input\n",
        "from keras import backend as K\n",
        "from keras import losses\n",
        "from tensorflow.keras import optimizers\n",
        "from keras import callbacks\n",
        "from keras.initializers import RandomNormal\n",
        "\n",
        "# Additional packages\n",
        "from PIL import Image\n",
        "import glob\n",
        "import os\n",
        "import numpy as np\n",
        "from sklearn import utils \n",
        "from sklearn.model_selection import KFold\n",
        "import IPython.display as dp\n",
        "import matplotlib.pyplot as plt\n",
        "%matplotlib inline\n",
        "\n",
        "# plt.rcParams['figure.figsize'] = (18, 6)\n",
        "from scipy.stats import itemfreq\n",
        "from math import floor, ceil\n",
        "import random"
      ]
    },
    {
      "cell_type": "code",
      "execution_count": null,
      "metadata": {
        "colab": {
          "base_uri": "https://localhost:8080/"
        },
        "id": "MnisWSNAnONG",
        "outputId": "7b789b63-ac12-4d66-d22b-42f3d786a5e6"
      },
      "outputs": [
        {
          "output_type": "stream",
          "name": "stdout",
          "text": [
            "Downloading data from https://storage.googleapis.com/tensorflow/tf-keras-datasets/mnist.npz\n",
            "11493376/11490434 [==============================] - 0s 0us/step\n",
            "11501568/11490434 [==============================] - 0s 0us/step\n",
            "(60000, 28, 28) (60000,)\n"
          ]
        }
      ],
      "source": [
        "(X_train, y_train), (X_test, y_test) = mnist.load_data()\n",
        "print(X_train.shape,y_train.shape)"
      ]
    },
    {
      "cell_type": "code",
      "execution_count": null,
      "metadata": {
        "id": "aZHUKnIynXkG"
      },
      "outputs": [],
      "source": [
        "#normalize data\n",
        "if X_train.max() >1:\n",
        "    X_train = X_train / 255\n",
        "    X_test = X_test / 255\n",
        "\n",
        "default_shape = X_train.shape\n",
        "#reshape input data to 1 channel\n",
        "X_train = X_train.reshape(-1,default_shape[1],default_shape[2],1)\n",
        "X_test = X_test.reshape(-1,default_shape[1],default_shape[2],1)\n",
        "image_dim = X_train.shape[1:]\n"
      ]
    },
    {
      "cell_type": "code",
      "source": [
        "image_dim"
      ],
      "metadata": {
        "colab": {
          "base_uri": "https://localhost:8080/"
        },
        "id": "lILAumbzQuB7",
        "outputId": "714ae9ca-0a3f-48fd-c1bc-c4301f121cb2"
      },
      "execution_count": null,
      "outputs": [
        {
          "output_type": "execute_result",
          "data": {
            "text/plain": [
              "(28, 28, 1)"
            ]
          },
          "metadata": {},
          "execution_count": 95
        }
      ]
    },
    {
      "cell_type": "code",
      "execution_count": null,
      "metadata": {
        "colab": {
          "base_uri": "https://localhost:8080/"
        },
        "id": "bYxWX3SOni1i",
        "outputId": "7c3f6c79-d022-4e34-9a6d-121c2d8fe08e"
      },
      "outputs": [
        {
          "output_type": "stream",
          "name": "stdout",
          "text": [
            "Model: \"sequential_3\"\n",
            "_________________________________________________________________\n",
            " Layer (type)                Output Shape              Param #   \n",
            "=================================================================\n",
            " conv2d_6 (Conv2D)           (None, 28, 28, 32)        320       \n",
            "                                                                 \n",
            " max_pooling2d_2 (MaxPooling  (None, 14, 14, 32)       0         \n",
            " 2D)                                                             \n",
            "                                                                 \n",
            " conv2d_7 (Conv2D)           (None, 14, 14, 64)        18496     \n",
            "                                                                 \n",
            " max_pooling2d_3 (MaxPooling  (None, 7, 7, 64)         0         \n",
            " 2D)                                                             \n",
            "                                                                 \n",
            " conv2d_8 (Conv2D)           (None, 7, 7, 128)         73856     \n",
            "                                                                 \n",
            " flatten_1 (Flatten)         (None, 6272)              0         \n",
            "                                                                 \n",
            " dense_2 (Dense)             (None, 100)               627300    \n",
            "                                                                 \n",
            "=================================================================\n",
            "Total params: 719,972\n",
            "Trainable params: 719,972\n",
            "Non-trainable params: 0\n",
            "_________________________________________________________________\n"
          ]
        }
      ],
      "source": [
        "image_dim = X_train.shape[1:]\n",
        "encoder = Sequential()\n",
        "encoder.add(Conv2D(32,kernel_size=(3,3), strides=(1,1),padding='same', activation='relu',input_shape=image_dim))\n",
        "encoder.add(MaxPooling2D(2,2))\n",
        "encoder.add(Conv2D(64,kernel_size=(3,3), strides=(1,1),padding='same',activation='relu'))\n",
        "encoder.add(MaxPooling2D(2,2))\n",
        "encoder.add(Conv2D(128,kernel_size=(3,3), strides=(1,1),padding='same',activation='relu'))\n",
        "encoder.add(Flatten())\n",
        "encoder.add(Dense(100,activation='sigmoid'))\n",
        "encoder.summary()"
      ]
    },
    {
      "cell_type": "code",
      "execution_count": null,
      "metadata": {
        "colab": {
          "base_uri": "https://localhost:8080/"
        },
        "id": "p4F-gO-jPQXx",
        "outputId": "5ec8af46-c132-4f7e-8e21-770d6a96c5a6"
      },
      "outputs": [
        {
          "output_type": "stream",
          "name": "stdout",
          "text": [
            "Model: \"sequential_4\"\n",
            "_________________________________________________________________\n",
            " Layer (type)                Output Shape              Param #   \n",
            "=================================================================\n",
            " dense_3 (Dense)             (None, 6272)              633472    \n",
            "                                                                 \n",
            " reshape_1 (Reshape)         (None, 7, 7, 128)         0         \n",
            "                                                                 \n",
            " conv2d_9 (Conv2D)           (None, 7, 7, 128)         147584    \n",
            "                                                                 \n",
            " up_sampling2d_2 (UpSampling  (None, 14, 14, 128)      0         \n",
            " 2D)                                                             \n",
            "                                                                 \n",
            " conv2d_10 (Conv2D)          (None, 14, 14, 64)        73792     \n",
            "                                                                 \n",
            " up_sampling2d_3 (UpSampling  (None, 28, 28, 64)       0         \n",
            " 2D)                                                             \n",
            "                                                                 \n",
            " conv2d_11 (Conv2D)          (None, 28, 28, 1)         577       \n",
            "                                                                 \n",
            "=================================================================\n",
            "Total params: 855,425\n",
            "Trainable params: 855,425\n",
            "Non-trainable params: 0\n",
            "_________________________________________________________________\n"
          ]
        }
      ],
      "source": [
        "encoder_out_dim = encoder.layers[-1].output_shape[1:]\n",
        "decoder = Sequential()\n",
        "decoder.add(Dense(6272, activation='sigmoid', input_shape=encoder_out_dim))\n",
        "decoder.add(Reshape(( 7, 7, 128)))\n",
        "decoder.add(Conv2D(128,kernel_size=(3,3), strides=(1,1),padding='same', activation='relu'))\n",
        "decoder.add(UpSampling2D((2,2)))\n",
        "decoder.add(Conv2D(64,kernel_size=(3,3), strides=(1,1),padding='same', activation='relu'))\n",
        "decoder.add(UpSampling2D((2,2)))\n",
        "decoder.add(Conv2D(1,kernel_size=(3,3), strides=(1,1),padding='same', activation='sigmoid'))\n",
        "decoder.summary()"
      ]
    },
    {
      "cell_type": "code",
      "execution_count": null,
      "metadata": {
        "colab": {
          "base_uri": "https://localhost:8080/"
        },
        "id": "HtYH8PcoNkix",
        "outputId": "aa8f769e-96e8-4565-9e80-b3394a9d4cf3"
      },
      "outputs": [
        {
          "output_type": "stream",
          "name": "stdout",
          "text": [
            "Model: \"sequential_5\"\n",
            "_________________________________________________________________\n",
            " Layer (type)                Output Shape              Param #   \n",
            "=================================================================\n",
            " sequential_3 (Sequential)   (None, 100)               719972    \n",
            "                                                                 \n",
            " sequential_4 (Sequential)   (None, 28, 28, 1)         855425    \n",
            "                                                                 \n",
            "=================================================================\n",
            "Total params: 1,575,397\n",
            "Trainable params: 1,575,397\n",
            "Non-trainable params: 0\n",
            "_________________________________________________________________\n"
          ]
        }
      ],
      "source": [
        "enc_dec = Sequential([encoder,decoder])\n",
        "enc_dec.summary()"
      ]
    },
    {
      "cell_type": "code",
      "execution_count": null,
      "metadata": {
        "colab": {
          "base_uri": "https://localhost:8080/"
        },
        "id": "7ABhKxq9NqCU",
        "outputId": "82f0af0c-946e-4b60-b518-d78e1fe39ad8"
      },
      "outputs": [
        {
          "output_type": "stream",
          "name": "stdout",
          "text": [
            "Epoch 1/1000\n",
            "480/480 - 17s - loss: 0.2685 - val_loss: 0.2622 - 17s/epoch - 36ms/step\n",
            "Epoch 2/1000\n",
            "480/480 - 15s - loss: 0.2634 - val_loss: 0.2628 - 15s/epoch - 31ms/step\n",
            "Epoch 3/1000\n",
            "480/480 - 15s - loss: 0.2634 - val_loss: 0.2624 - 15s/epoch - 31ms/step\n",
            "Epoch 4/1000\n",
            "480/480 - 15s - loss: 0.2634 - val_loss: 0.2622 - 15s/epoch - 32ms/step\n",
            "Epoch 5/1000\n",
            "480/480 - 15s - loss: 0.2634 - val_loss: 0.2623 - 15s/epoch - 32ms/step\n",
            "Epoch 6/1000\n",
            "Restoring model weights from the end of the best epoch: 1.\n",
            "Restoring model weights from the end of the best epoch: 1.\n",
            "480/480 - 15s - loss: 0.2633 - val_loss: 0.2627 - 15s/epoch - 32ms/step\n",
            "Epoch 6: early stopping\n",
            "Epoch 6: early stopping\n"
          ]
        }
      ],
      "source": [
        "enc_dec.compile(optimizer='nadam', loss = 'binary_crossentropy')\n",
        "es = callbacks.EarlyStopping(monitor='val_loss', mode='min', verbose=2, patience=10, restore_best_weights=True)\n",
        "history = enc_dec.fit(X_train,X_train, batch_size=100,epochs=1000,validation_split=0.2, verbose=2,callbacks=[es,es])"
      ]
    },
    {
      "cell_type": "code",
      "execution_count": null,
      "metadata": {
        "colab": {
          "base_uri": "https://localhost:8080/"
        },
        "id": "MrxJhCf-Nh26",
        "outputId": "c2e26b66-b685-4408-932f-c1501bb2ad47"
      },
      "outputs": [
        {
          "output_type": "stream",
          "name": "stdout",
          "text": [
            "10/10 [==============================] - 2s 64ms/step - loss: 0.2626\n"
          ]
        },
        {
          "output_type": "execute_result",
          "data": {
            "text/plain": [
              "0.26264050602912903"
            ]
          },
          "metadata": {},
          "execution_count": 8
        }
      ],
      "source": [
        "enc_dec.evaluate(X_test,X_test,batch_size=1000)"
      ]
    },
    {
      "cell_type": "code",
      "execution_count": null,
      "metadata": {
        "colab": {
          "base_uri": "https://localhost:8080/"
        },
        "id": "LLwUP7t6L7GW",
        "outputId": "bb1ca775-e7b6-42fa-c63c-07fe6aba5e07"
      },
      "outputs": [
        {
          "output_type": "display_data",
          "data": {
            "text/plain": [
              "<Figure size 432x288 with 2 Axes>"
            ],
            "image/png": "[encoded data removed]"
          },
          "metadata": {
            "needs_background": "light"
          }
        }
      ],
      "source": [
        "random_label = np.random.randint(0,9999)\n",
        "img_sample = X_test[random_label,:,:].reshape((1,28,28,1))\n",
        "plt.subplot(1,2,1)\n",
        "plt.imshow(img_sample.reshape(28,28), cmap='gray');\n",
        "plt.title('Original image');\n",
        "pred_img = enc_dec.predict(img_sample) \n",
        "plt.subplot(1,2,2)\n",
        "plt.imshow(pred_img.reshape(28,28), cmap='gray');\n",
        "plt.title('Reconstructed image');"
      ]
    },
    {
      "cell_type": "code",
      "execution_count": null,
      "metadata": {
        "colab": {
          "base_uri": "https://localhost:8080/"
        },
        "id": "E9GYe8hiTj4C",
        "outputId": "1fa201b0-581d-4101-8757-5477f2c82229"
      },
      "outputs": [
        {
          "output_type": "stream",
          "name": "stdout",
          "text": [
            "(None, 784)\n",
            "Model: \"model_10\"\n",
            "_________________________________________________________________\n",
            " Layer (type)                Output Shape              Param #   \n",
            "=================================================================\n",
            " input_21 (InputLayer)       [(None, 1)]               0         \n",
            "                                                                 \n",
            " dense_71 (Dense)            (None, 128)               256       \n",
            "                                                                 \n",
            " dense_72 (Dense)            (None, 256)               33024     \n",
            "                                                                 \n",
            " dense_73 (Dense)            (None, 784)               201488    \n",
            "                                                                 \n",
            "=================================================================\n",
            "Total params: 234,768\n",
            "Trainable params: 234,768\n",
            "Non-trainable params: 0\n",
            "_________________________________________________________________\n"
          ]
        },
        {
          "output_type": "stream",
          "name": "stderr",
          "text": [
            "/usr/local/lib/python3.7/dist-packages/keras/optimizer_v2/adam.py:105: UserWarning: The `lr` argument is deprecated, use `learning_rate` instead.\n",
            "  super(Adam, self).__init__(name, **kwargs)\n"
          ]
        },
        {
          "output_type": "stream",
          "name": "stdout",
          "text": [
            "Epoch 1/100\n",
            "235/235 [==============================] - 4s 11ms/step - loss: 0.3022 - val_loss: 0.2552\n",
            "Epoch 2/100\n",
            "235/235 [==============================] - 2s 8ms/step - loss: 0.2494 - val_loss: 0.2444\n",
            "Epoch 3/100\n",
            "235/235 [==============================] - 1s 6ms/step - loss: 0.2433 - val_loss: 0.2406\n",
            "Epoch 4/100\n",
            "235/235 [==============================] - 1s 6ms/step - loss: 0.2404 - val_loss: 0.2379\n",
            "Epoch 5/100\n",
            "235/235 [==============================] - 1s 6ms/step - loss: 0.2377 - val_loss: 0.2351\n",
            "Epoch 6/100\n",
            "235/235 [==============================] - 1s 6ms/step - loss: 0.2352 - val_loss: 0.2332\n",
            "Epoch 7/100\n",
            "235/235 [==============================] - 1s 5ms/step - loss: 0.2334 - val_loss: 0.2316\n",
            "Epoch 8/100\n",
            "235/235 [==============================] - 1s 5ms/step - loss: 0.2323 - val_loss: 0.2306\n",
            "Epoch 9/100\n",
            "235/235 [==============================] - 1s 5ms/step - loss: 0.2316 - val_loss: 0.2300\n",
            "Epoch 10/100\n",
            "235/235 [==============================] - 1s 5ms/step - loss: 0.2312 - val_loss: 0.2296\n",
            "Epoch 11/100\n",
            "235/235 [==============================] - 1s 6ms/step - loss: 0.2308 - val_loss: 0.2292\n",
            "Epoch 12/100\n",
            "235/235 [==============================] - 1s 5ms/step - loss: 0.2304 - val_loss: 0.2288\n",
            "Epoch 13/100\n",
            "235/235 [==============================] - 1s 5ms/step - loss: 0.2299 - val_loss: 0.2281\n",
            "Epoch 14/100\n",
            "235/235 [==============================] - 1s 5ms/step - loss: 0.2295 - val_loss: 0.2278\n",
            "Epoch 15/100\n",
            "235/235 [==============================] - 1s 5ms/step - loss: 0.2291 - val_loss: 0.2274\n",
            "Epoch 16/100\n",
            "235/235 [==============================] - 1s 5ms/step - loss: 0.2287 - val_loss: 0.2271\n",
            "Epoch 17/100\n",
            "235/235 [==============================] - 1s 5ms/step - loss: 0.2282 - val_loss: 0.2266\n",
            "Epoch 18/100\n",
            "235/235 [==============================] - 1s 5ms/step - loss: 0.2279 - val_loss: 0.2263\n",
            "Epoch 19/100\n",
            "235/235 [==============================] - 1s 6ms/step - loss: 0.2274 - val_loss: 0.2258\n",
            "Epoch 20/100\n",
            "235/235 [==============================] - 1s 5ms/step - loss: 0.2269 - val_loss: 0.2253\n",
            "Epoch 21/100\n",
            "235/235 [==============================] - 1s 5ms/step - loss: 0.2263 - val_loss: 0.2246\n",
            "Epoch 22/100\n",
            "235/235 [==============================] - 1s 5ms/step - loss: 0.2256 - val_loss: 0.2240\n",
            "Epoch 23/100\n",
            "235/235 [==============================] - 1s 5ms/step - loss: 0.2250 - val_loss: 0.2232\n",
            "Epoch 24/100\n",
            "235/235 [==============================] - 1s 5ms/step - loss: 0.2244 - val_loss: 0.2230\n",
            "Epoch 25/100\n",
            "235/235 [==============================] - 1s 5ms/step - loss: 0.2237 - val_loss: 0.2217\n",
            "Epoch 26/100\n",
            "235/235 [==============================] - 1s 5ms/step - loss: 0.2231 - val_loss: 0.2216\n",
            "Epoch 27/100\n",
            "235/235 [==============================] - 2s 7ms/step - loss: 0.2225 - val_loss: 0.2208\n",
            "Epoch 28/100\n",
            "235/235 [==============================] - 2s 8ms/step - loss: 0.2222 - val_loss: 0.2203\n",
            "Epoch 29/100\n",
            "235/235 [==============================] - 1s 5ms/step - loss: 0.2219 - val_loss: 0.2201\n",
            "Epoch 30/100\n",
            "235/235 [==============================] - 1s 5ms/step - loss: 0.2218 - val_loss: 0.2200\n",
            "Epoch 31/100\n",
            "235/235 [==============================] - 1s 6ms/step - loss: 0.2216 - val_loss: 0.2196\n",
            "Epoch 32/100\n",
            "235/235 [==============================] - 1s 5ms/step - loss: 0.2215 - val_loss: 0.2197\n",
            "Epoch 33/100\n",
            "235/235 [==============================] - 1s 5ms/step - loss: 0.2214 - val_loss: 0.2196\n",
            "Epoch 34/100\n",
            "235/235 [==============================] - 1s 6ms/step - loss: 0.2214 - val_loss: 0.2199\n",
            "Epoch 35/100\n",
            "235/235 [==============================] - 1s 5ms/step - loss: 0.2213 - val_loss: 0.2196\n",
            "Epoch 36/100\n",
            "235/235 [==============================] - 1s 5ms/step - loss: 0.2213 - val_loss: 0.2194\n",
            "Epoch 37/100\n",
            "235/235 [==============================] - 1s 5ms/step - loss: 0.2213 - val_loss: 0.2197\n",
            "Epoch 38/100\n",
            "235/235 [==============================] - 1s 5ms/step - loss: 0.2212 - val_loss: 0.2194\n",
            "Epoch 39/100\n",
            "235/235 [==============================] - 1s 5ms/step - loss: 0.2212 - val_loss: 0.2195\n",
            "Epoch 40/100\n",
            "235/235 [==============================] - 1s 5ms/step - loss: 0.2212 - val_loss: 0.2201\n",
            "Epoch 41/100\n",
            "235/235 [==============================] - 1s 5ms/step - loss: 0.2212 - val_loss: 0.2197\n",
            "Epoch 42/100\n",
            "235/235 [==============================] - 1s 6ms/step - loss: 0.2211 - val_loss: 0.2195\n",
            "Epoch 43/100\n",
            "235/235 [==============================] - 1s 5ms/step - loss: 0.2211 - val_loss: 0.2194\n",
            "Epoch 44/100\n",
            "235/235 [==============================] - 1s 5ms/step - loss: 0.2212 - val_loss: 0.2195\n",
            "Epoch 45/100\n",
            "235/235 [==============================] - 1s 5ms/step - loss: 0.2211 - val_loss: 0.2197\n",
            "Epoch 46/100\n",
            "235/235 [==============================] - 1s 6ms/step - loss: 0.2211 - val_loss: 0.2194\n",
            "Epoch 47/100\n",
            "235/235 [==============================] - 1s 5ms/step - loss: 0.2211 - val_loss: 0.2196\n",
            "Epoch 48/100\n",
            "235/235 [==============================] - 1s 5ms/step - loss: 0.2211 - val_loss: 0.2194\n",
            "Epoch 49/100\n",
            "235/235 [==============================] - 1s 5ms/step - loss: 0.2210 - val_loss: 0.2192\n",
            "Epoch 50/100\n",
            "235/235 [==============================] - 1s 5ms/step - loss: 0.2211 - val_loss: 0.2193\n",
            "Epoch 51/100\n",
            "235/235 [==============================] - 1s 5ms/step - loss: 0.2210 - val_loss: 0.2194\n",
            "Epoch 52/100\n",
            "235/235 [==============================] - 1s 5ms/step - loss: 0.2210 - val_loss: 0.2193\n",
            "Epoch 53/100\n",
            "235/235 [==============================] - 1s 5ms/step - loss: 0.2210 - val_loss: 0.2193\n",
            "Epoch 54/100\n",
            "235/235 [==============================] - 1s 6ms/step - loss: 0.2210 - val_loss: 0.2193\n",
            "Epoch 55/100\n",
            "235/235 [==============================] - 1s 5ms/step - loss: 0.2210 - val_loss: 0.2192\n",
            "Epoch 56/100\n",
            "235/235 [==============================] - 1s 5ms/step - loss: 0.2210 - val_loss: 0.2193\n",
            "Epoch 57/100\n",
            "235/235 [==============================] - 1s 6ms/step - loss: 0.2210 - val_loss: 0.2196\n",
            "Epoch 58/100\n",
            "235/235 [==============================] - 1s 6ms/step - loss: 0.2210 - val_loss: 0.2192\n",
            "Epoch 59/100\n",
            "235/235 [==============================] - 1s 6ms/step - loss: 0.2210 - val_loss: 0.2195\n",
            "Epoch 60/100\n",
            "235/235 [==============================] - 1s 5ms/step - loss: 0.2210 - val_loss: 0.2193\n",
            "Epoch 61/100\n",
            "235/235 [==============================] - 1s 5ms/step - loss: 0.2210 - val_loss: 0.2194\n",
            "Epoch 62/100\n",
            "235/235 [==============================] - 1s 5ms/step - loss: 0.2210 - val_loss: 0.2192\n",
            "Epoch 63/100\n",
            "235/235 [==============================] - 1s 5ms/step - loss: 0.2210 - val_loss: 0.2194\n",
            "Epoch 64/100\n",
            "235/235 [==============================] - 1s 5ms/step - loss: 0.2209 - val_loss: 0.2194\n",
            "Epoch 65/100\n",
            "235/235 [==============================] - 1s 6ms/step - loss: 0.2210 - val_loss: 0.2195\n",
            "Epoch 66/100\n",
            "235/235 [==============================] - 1s 5ms/step - loss: 0.2209 - val_loss: 0.2192\n",
            "Epoch 67/100\n",
            "235/235 [==============================] - 1s 5ms/step - loss: 0.2209 - val_loss: 0.2193\n",
            "Epoch 68/100\n",
            "235/235 [==============================] - 1s 6ms/step - loss: 0.2209 - val_loss: 0.2194\n",
            "Epoch 69/100\n",
            "235/235 [==============================] - 1s 6ms/step - loss: 0.2209 - val_loss: 0.2195\n",
            "Epoch 70/100\n",
            "235/235 [==============================] - 1s 5ms/step - loss: 0.2210 - val_loss: 0.2193\n",
            "Epoch 71/100\n",
            "235/235 [==============================] - 1s 5ms/step - loss: 0.2209 - val_loss: 0.2193\n",
            "Epoch 72/100\n",
            "235/235 [==============================] - 1s 6ms/step - loss: 0.2209 - val_loss: 0.2193\n",
            "Epoch 73/100\n",
            "235/235 [==============================] - 1s 5ms/step - loss: 0.2209 - val_loss: 0.2194\n",
            "Epoch 74/100\n",
            "235/235 [==============================] - 1s 5ms/step - loss: 0.2209 - val_loss: 0.2192\n",
            "Epoch 75/100\n",
            "235/235 [==============================] - 1s 6ms/step - loss: 0.2209 - val_loss: 0.2192\n",
            "Epoch 76/100\n",
            "235/235 [==============================] - 1s 5ms/step - loss: 0.2209 - val_loss: 0.2192\n",
            "Epoch 77/100\n",
            "235/235 [==============================] - 1s 5ms/step - loss: 0.2209 - val_loss: 0.2192\n",
            "Epoch 78/100\n",
            "235/235 [==============================] - 1s 6ms/step - loss: 0.2209 - val_loss: 0.2192\n",
            "Epoch 79/100\n",
            "235/235 [==============================] - 2s 8ms/step - loss: 0.2209 - val_loss: 0.2191\n",
            "Epoch 80/100\n",
            "235/235 [==============================] - 1s 6ms/step - loss: 0.2209 - val_loss: 0.2193\n",
            "Epoch 81/100\n",
            "235/235 [==============================] - 1s 6ms/step - loss: 0.2209 - val_loss: 0.2191\n",
            "Epoch 82/100\n",
            "235/235 [==============================] - 1s 5ms/step - loss: 0.2209 - val_loss: 0.2195\n",
            "Epoch 83/100\n",
            "235/235 [==============================] - 1s 5ms/step - loss: 0.2209 - val_loss: 0.2193\n",
            "Epoch 84/100\n",
            "235/235 [==============================] - 1s 6ms/step - loss: 0.2209 - val_loss: 0.2194\n",
            "Epoch 85/100\n",
            "235/235 [==============================] - 1s 5ms/step - loss: 0.2209 - val_loss: 0.2193\n",
            "Epoch 86/100\n",
            "235/235 [==============================] - 1s 6ms/step - loss: 0.2209 - val_loss: 0.2195\n",
            "Epoch 87/100\n",
            "235/235 [==============================] - 1s 5ms/step - loss: 0.2209 - val_loss: 0.2191\n",
            "Epoch 88/100\n",
            "235/235 [==============================] - 1s 5ms/step - loss: 0.2209 - val_loss: 0.2194\n",
            "Epoch 89/100\n",
            "235/235 [==============================] - 1s 5ms/step - loss: 0.2209 - val_loss: 0.2193\n",
            "Epoch 90/100\n",
            "235/235 [==============================] - 1s 6ms/step - loss: 0.2209 - val_loss: 0.2193\n",
            "Epoch 91/100\n",
            "235/235 [==============================] - 1s 5ms/step - loss: 0.2209 - val_loss: 0.2191\n",
            "Epoch 92/100\n",
            "235/235 [==============================] - 1s 6ms/step - loss: 0.2209 - val_loss: 0.2192\n",
            "Epoch 93/100\n",
            "235/235 [==============================] - 1s 5ms/step - loss: 0.2209 - val_loss: 0.2191\n",
            "Epoch 94/100\n",
            "235/235 [==============================] - 1s 6ms/step - loss: 0.2208 - val_loss: 0.2192\n",
            "Epoch 95/100\n",
            "235/235 [==============================] - 1s 6ms/step - loss: 0.2209 - val_loss: 0.2194\n",
            "Epoch 96/100\n",
            "235/235 [==============================] - 1s 5ms/step - loss: 0.2209 - val_loss: 0.2192\n",
            "Epoch 97/100\n",
            "235/235 [==============================] - 1s 5ms/step - loss: 0.2209 - val_loss: 0.2191\n",
            "Epoch 98/100\n",
            "235/235 [==============================] - 1s 6ms/step - loss: 0.2209 - val_loss: 0.2192\n",
            "Epoch 99/100\n",
            "235/235 [==============================] - 1s 5ms/step - loss: 0.2209 - val_loss: 0.2193\n",
            "Epoch 100/100\n",
            "235/235 [==============================] - 1s 5ms/step - loss: 0.2208 - val_loss: 0.2192\n"
          ]
        },
        {
          "output_type": "execute_result",
          "data": {
            "text/plain": [
              "<keras.callbacks.History at 0x7f3dda6b1b90>"
            ]
          },
          "metadata": {},
          "execution_count": 74
        }
      ],
      "source": [
        "# autoencoder for decoder structure\n",
        "from keras.layers import Input, Dense\n",
        "from keras.models import Model\n",
        "from keras import optimizers\n",
        "from keras.datasets import mnist\n",
        "import numpy as np\n",
        "import matplotlib.pyplot as plt\n",
        "import random\n",
        "from tensorflow.keras import optimizers\n",
        "\n",
        "\n",
        "encoding_dim = Input(shape=(1,))\n",
        "input_img = Input(shape=(784,))\n",
        "\n",
        "decoded_1 = Dense(128, activation='relu')(encoding_dim)\n",
        "decoded_2 = Dense(256, activation='relu')(decoded_1)\n",
        "decoded = Dense(784, activation='sigmoid')(decoded_2)\n",
        "print(decoded.shape)\n",
        "autoencoder = Model(encoding_dim, decoded)\n",
        "\n",
        "myoptimizer = optimizers.Adam(lr=0.001, beta_1=0.9, beta_2=0.999, epsilon=None, decay=1e-5, amsgrad=False)\n",
        "autoencoder.compile(optimizer=myoptimizer, loss='binary_crossentropy')\n",
        "autoencoder.summary()\n",
        "(x_tr, y_tr), (x_te, y_te) = mnist.load_data()\n",
        "x_tr = x_tr.astype('float32') / 255.\n",
        "x_te = x_te.astype('float32') / 255.\n",
        "x_tr = x_tr.reshape((len(x_tr), np.prod(x_tr.shape[1:])))\n",
        "x_te = x_te.reshape((len(x_te), np.prod(x_te.shape[1:])))\n",
        "\n",
        "autoencoder.fit(y_tr, x_tr,\n",
        "                epochs=100,\n",
        "                batch_size=256,\n",
        "                shuffle=True,\n",
        "                validation_data=(y_te, x_te))"
      ]
    },
    {
      "cell_type": "code",
      "execution_count": null,
      "metadata": {
        "colab": {
          "base_uri": "https://localhost:8080/"
        },
        "id": "rP2pnrl9gGZb",
        "outputId": "ea36ffb2-89f4-4a9f-da13-73f6a909b7e6"
      },
      "outputs": [
        {
          "name": "stdout",
          "output_type": "stream",
          "text": [
            "WARNING:tensorflow:No training configuration found in save file, so the model was *not* compiled. Compile it manually.\n",
            "WARNING:tensorflow:No training configuration found in save file, so the model was *not* compiled. Compile it manually.\n"
          ]
        }
      ],
      "source": [
        "encoder.save('encoder')\n",
        "autoencoder.save('autoencoder')\n",
        "\n",
        "# duplicate encoders and freeze weights\n",
        "encoder1 = keras.models.load_model('encoder') \n",
        "encoder1._name = 'encoder1'\n",
        "encoder1.trainable = False\n",
        "\n",
        "encoder2 = keras.models.load_model('encoder')\n",
        "encoder2._name = 'encoder2'\n",
        "encoder2.trainable = False\n",
        "\n",
        "autoencoder = keras.models.load_model('autoencoder')\n",
        "autoencoder._name = 'autoencoder'\n",
        "autoencoder.trainable = False\n",
        "\n"
      ]
    },
    {
      "cell_type": "code",
      "execution_count": null,
      "metadata": {
        "colab": {
          "base_uri": "https://localhost:8080/"
        },
        "id": "xwHl0uJxgIpy",
        "outputId": "726af0a5-8d79-4a06-c44d-26e03e0fd7e4"
      },
      "outputs": [
        {
          "output_type": "stream",
          "name": "stdout",
          "text": [
            "(None, 10)\n",
            "(28, 28, 1)\n",
            "Model: \"model_33\"\n",
            "__________________________________________________________________________________________________\n",
            " Layer (type)                   Output Shape         Param #     Connected to                     \n",
            "==================================================================================================\n",
            " input_97 (InputLayer)          [(None, 28, 28, 1)]  0           []                               \n",
            "                                                                                                  \n",
            " input_98 (InputLayer)          [(None, 28, 28, 1)]  0           []                               \n",
            "                                                                                                  \n",
            " encoder1 (Sequential)          (None, 100)          719972      ['input_97[0][0]']               \n",
            "                                                                                                  \n",
            " encoder2 (Sequential)          (None, 100)          719972      ['input_98[0][0]']               \n",
            "                                                                                                  \n",
            " concatenate_45 (Concatenate)   (None, 200)          0           ['encoder1[45][0]',              \n",
            "                                                                  'encoder2[45][0]']              \n",
            "                                                                                                  \n",
            " dense_290 (Dense)              (None, 1000)         201000      ['concatenate_45[0][0]']         \n",
            "                                                                                                  \n",
            " dense_291 (Dense)              (None, 200)          200200      ['dense_290[0][0]']              \n",
            "                                                                                                  \n",
            " units_add (Dense)              (None, 10)           2010        ['dense_291[0][0]']              \n",
            "                                                                                                  \n",
            " tf.__operators__.getitem_7 (Sl  (None, 10)          0           ['units_add[0][0]']              \n",
            " icingOpLambda)                                                                                   \n",
            "                                                                                                  \n",
            " dense_292 (Dense)              (None, 200)          200200      ['dense_290[0][0]']              \n",
            "                                                                                                  \n",
            " tf.math.argmax_43 (TFOpLambda)  (None,)             0           ['tf.__operators__.getitem_7[0][0\n",
            "                                                                 ]']                              \n",
            "                                                                                                  \n",
            " tens_add (Dense)               (None, 1)            201         ['dense_292[0][0]']              \n",
            "                                                                                                  \n",
            " model_10 (Functional)          (None, 784)          234768      ['tens_add[0][0]',               \n",
            "                                                                  'tf.math.argmax_43[0][0]']      \n",
            "                                                                                                  \n",
            " tf.reshape_64 (TFOpLambda)     (28, 28, 1)          0           ['model_10[46][0]']              \n",
            "                                                                                                  \n",
            " tf.reshape_63 (TFOpLambda)     (28, 28, 1)          0           ['model_10[45][0]']              \n",
            "                                                                                                  \n",
            "==================================================================================================\n",
            "Total params: 2,278,323\n",
            "Trainable params: 838,379\n",
            "Non-trainable params: 1,439,944\n",
            "__________________________________________________________________________________________________\n"
          ]
        }
      ],
      "source": [
        "import tensorflow\n",
        "# create model to learn it all\n",
        "input1 = Input(shape=image_dim)\n",
        "input2 = Input(shape=image_dim)\n",
        "enc1_out = encoder1(input1)\n",
        "enc2_out = encoder2(input2)\n",
        "model_c = Concatenate()([enc1_out,enc2_out])\n",
        "model_c = Dense(1000,activation='relu')(model_c)\n",
        "model_b1 = Dense(200,activation='relu')(model_c)\n",
        "model_b2 = Dense(200,activation='relu')(model_c)\n",
        "model_b3 = Dense(200,activation='relu')(model_c)\n",
        "model_b4 = Dense(200,activation='relu')(model_c)\n",
        "model_b5 = Dense(200,activation='relu')(model_c)\n",
        "\n",
        "units_add =  Dense(10,activation='softmax',name ='units_add')(model_b1)\n",
        "print((units_add.shape))\n",
        "\n",
        "tens_add = Dense(1,activation='sigmoid',name ='tens_add')(model_b2)\n",
        "\n",
        "dec2_out = autoencoder(tens_add)\n",
        "dec2_out = tensorflow.reshape(dec2_out, [28,28,1])\n",
        "dec1_out = autoencoder(K.argmax(units_add[0:], axis=-1))\n",
        "dec1_out = tensorflow.reshape(dec1_out,[28,28,1])\n",
        "print(dec1_out.shape)\n",
        "model_complete = Model(inputs=[input1,input2],outputs=[dec1_out, dec2_out])\n",
        "model_complete.compile(optimizer='nadam', loss = ['binary_crossentropy','binary_crossentropy'], metrics=['acc'])\n",
        "model_complete.summary()"
      ]
    },
    {
      "cell_type": "code",
      "execution_count": null,
      "metadata": {
        "id": "s3fONYlEkNy4"
      },
      "outputs": [],
      "source": [
        "(X_train_keras, y_train_keras), (X_test_keras, y_test_keras) = mnist.load_data()\n",
        "\n",
        "#Dataset for additions\n",
        "# Generate the 100 unique pairs\n",
        "unique_pairs = [str(x)+str(y) for x in range(10) for y in range(10)]\n",
        "#print(unique_pairs)\n",
        "# Create 10 test set pairs\n",
        "test_set_pairs = []\n",
        "\n",
        "while(len(test_set_pairs) < 10):\n",
        "    pair_to_add = random.choice(unique_pairs)\n",
        "    if pair_to_add not in test_set_pairs:\n",
        "        test_set_pairs.append(pair_to_add)\n",
        "\n",
        "#Use the remaining 90 as training set pairs\n",
        "train_set_pairs = list(set(unique_pairs) - set(test_set_pairs))\n",
        "\n",
        "\n",
        "# Ensure there are 90 training set pairs and 10 test set pairs\n",
        "assert(len(test_set_pairs) == 10)\n",
        "assert(len(train_set_pairs) == 90)\n",
        "\n",
        "# Ensure no test set pairs appear in the training set pairs:\n",
        "for test_set in test_set_pairs:\n",
        "    assert(test_set not in train_set_pairs)\n",
        "    #print(\"%s not in training set.\" % test_set)\n",
        "    \n",
        "from keras import backend as K\n",
        "import math\n",
        "y = 30\n",
        "\n",
        "def num2img(num):\n",
        "    first_digit = floor(num/10)\n",
        "    last_digit = num%10\n",
        "    y = np.zeros((28,56), dtype=\"uint8\")\n",
        "    first = find_n_array(first_digit)\n",
        "    sec = find_n_array(last_digit)\n",
        "    # Populate the empty matrix with data from two image matrices from the training set\n",
        "    y[:,:28] = X_train_keras[first]\n",
        "    y[:,28:] = X_train_keras[sec]\n",
        "    return y\n",
        "\n",
        "\n",
        "def find_n_array(num):\n",
        "    for i in range(0, len(y_train_keras)):\n",
        "        if num == y_train_keras[i]:\n",
        "            index = i\n",
        "            break\n",
        "    return index \n",
        "\n",
        "#Image.fromarray(num2img(18))\n",
        "X_train_1 = []\n",
        "X_train_2 = []\n",
        "y_train_1 = []\n",
        "y_train_2 = []\n",
        "\n",
        "# Number of samples per permutation (e.g. there are 90 permutations in the train set so 1000 * 90)\n",
        "samples_per_permutation = 10  # Set to 10 for brevity. Results in the paper were for 1,000 samples.\n",
        "\n",
        "for train_set_pair in train_set_pairs:\n",
        "    for _ in range(samples_per_permutation):\n",
        "        rand_i = np.random.choice(np.where(y_train_keras == int(train_set_pair[0]))[0])\n",
        "        rand_j = np.random.choice(np.where(y_train_keras == int(train_set_pair[1]))[0])\n",
        "        X_train_1.append(X_train_keras[rand_i])\n",
        "        X_train_2.append(X_train_keras[rand_j])\n",
        "        y_train_1.append((num2img(y_train_keras[rand_i] + y_train_keras[rand_j]))[:,:28])\n",
        "        y_train_2.append((num2img(y_train_keras[rand_i] + y_train_keras[rand_j]))[:,28:])        \n",
        "\n",
        "        \n",
        "X_test_1 = []\n",
        "X_test_2 = []\n",
        "y_test_1 = []\n",
        "y_test_2 = []\n",
        "\n",
        "for test_set_pair in test_set_pairs:\n",
        "    for _ in range(samples_per_permutation):\n",
        "        rand_i = np.random.choice(np.where(y_test_keras == int(test_set_pair[0]))[0])\n",
        "        rand_j = np.random.choice(np.where(y_test_keras == int(test_set_pair[1]))[0])\n",
        "        X_test_1.append(X_test_keras[rand_i])\n",
        "        X_test_2.append(X_test_keras[rand_j])\n",
        "        y_test_1.append((num2img(y_test_keras[rand_i] + y_test_keras[rand_j]))[:,:28])\n",
        "        y_test_2.append((num2img(y_test_keras[rand_i] + y_test_keras[rand_j]))[:,28:])\n",
        "        \n",
        "#print(\"Training set size: %s, test set size: %s\" % (len(X_train), len(X_test)))\n",
        "\n",
        "# The training set should be 90,000 images in size (90 permutations * 1000)\n",
        "# and the label data, y_train, must also be equal in length.\n",
        "assert(len(X_train_1) == samples_per_permutation * 90)\n",
        "assert(len(X_train_1) == len(y_train_1))\n",
        "assert(len(X_train_2) == samples_per_permutation * 90)\n",
        "assert(len(X_train_2) == len(y_train_2))\n",
        "\n",
        "# The test set should be 10,000 images in size (10 permutations * 1000)\n",
        "# and the label data, y_test, must also be equal in length\n",
        "assert(len(X_test_1) == samples_per_permutation * 10)\n",
        "assert(len(X_test_1) == len(y_test_1))\n",
        "assert(len(X_test_2) == samples_per_permutation * 10)\n",
        "assert(len(X_test_2) == len(y_test_2))\n",
        "\n",
        "# Ensure we are using NumPy arrays\n",
        "X_train_1 = np.asarray(X_train_1)\n",
        "y_train_1 = np.asarray(y_train_1)\n",
        "X_test_1 = np.asarray(X_test_1)\n",
        "y_test_1 = np.asarray(y_test_1)\n",
        "\n",
        "X_train_2 = np.asarray(X_train_2)\n",
        "y_train_2 = np.asarray(y_train_2)\n",
        "X_test_2 = np.asarray(X_test_2)\n",
        "y_test_2 = np.asarray(y_test_2)\n",
        "\n",
        "# Reshape the data sets to a format suitable for Keras\n",
        "X_train_1 = X_train_1.reshape(X_train_1.shape[0], X_train_1.shape[1], X_train_1.shape[2], 1)\n",
        "X_test_1 = X_test_1.reshape(X_test_1.shape[0], X_test_1.shape[1], X_test_1.shape[2], 1)\n",
        "y_train_1 = y_train_1.reshape(y_train_1.shape[0], y_train_1.shape[1], y_train_1.shape[2], 1)\n",
        "y_test_1 = y_test_1.reshape(y_test_1.shape[0], y_test_1.shape[1], y_test_1.shape[2], 1)\n",
        "\n",
        "X_train_2 = X_train_2.reshape(X_train_2.shape[0], X_train_2.shape[1], X_train_2.shape[2], 1)\n",
        "X_test_2 = X_test_2.reshape(X_test_2.shape[0], X_test_2.shape[1], X_test_2.shape[2], 1)\n",
        "y_train_2 = y_train_2.reshape(y_train_2.shape[0], y_train_2.shape[1], y_train_2.shape[2], 1)\n",
        "y_test_2 = y_test_2.reshape(y_test_2.shape[0], y_test_2.shape[1], y_test_2.shape[2], 1)\n",
        "\n",
        "# Reformat the images to use floating point values rather than integers between 0-255\n",
        "X_train_1 = X_train_1.astype('float32')\n",
        "X_test_1 = X_test_1.astype('float32')\n",
        "X_train_1 /= 255\n",
        "X_test_1 /= 255\n",
        "X_train_2 = X_train_2.astype('float32')\n",
        "X_test_2 = X_test_2.astype('float32')\n",
        "X_train_2 /= 255\n",
        "X_test_2 /= 255\n",
        "\n",
        "y_train_1 = y_train_1.astype('float32')\n",
        "y_test_1 = y_test_1.astype('float32')\n",
        "y_train_1 /= 255\n",
        "y_test_1 /= 255\n",
        "y_train_2 = y_train_2.astype('float32')\n",
        "y_test_2 = y_test_2.astype('float32')\n",
        "y_train_2 /= 255\n",
        "y_test_2 /= 255\n",
        "\n"
      ]
    },
    {
      "cell_type": "code",
      "source": [
        "units_add[0]"
      ],
      "metadata": {
        "colab": {
          "base_uri": "https://localhost:8080/"
        },
        "id": "9XXBxcAnKuhu",
        "outputId": "64311903-05a2-40bb-9d03-e3945e287ac0"
      },
      "execution_count": null,
      "outputs": [
        {
          "output_type": "execute_result",
          "data": {
            "text/plain": [
              "<KerasTensor: shape=(10,) dtype=float32 (created by layer 'tf.__operators__.getitem_3')>"
            ]
          },
          "metadata": {},
          "execution_count": 119
        }
      ]
    },
    {
      "cell_type": "code",
      "execution_count": null,
      "metadata": {
        "colab": {
          "base_uri": "https://localhost:8080/",
          "height": 1000
        },
        "id": "R-aJLWEHw7BI",
        "outputId": "15a0ed6f-2132-4a83-db58-b99d19c9cf85"
      },
      "outputs": [
        {
          "output_type": "stream",
          "name": "stdout",
          "text": [
            "Epoch 1/1000\n",
            "WARNING:tensorflow:Gradients do not exist for variables ['dense_291/kernel:0', 'dense_291/bias:0', 'units_add/kernel:0', 'units_add/bias:0'] when minimizing the loss. If you're using `model.compile()`, did you forget to provide a `loss`argument?\n",
            "WARNING:tensorflow:Gradients do not exist for variables ['dense_291/kernel:0', 'dense_291/bias:0', 'units_add/kernel:0', 'units_add/bias:0'] when minimizing the loss. If you're using `model.compile()`, did you forget to provide a `loss`argument?\n"
          ]
        },
        {
          "output_type": "error",
          "ename": "InvalidArgumentError",
          "evalue": "ignored",
          "traceback": [
            "\u001b[0;31m---------------------------------------------------------------------------\u001b[0m",
            "\u001b[0;31mInvalidArgumentError\u001b[0m                      Traceback (most recent call last)",
            "\u001b[0;32m<ipython-input-129-6bef972acfa2>\u001b[0m in \u001b[0;36m<module>\u001b[0;34m()\u001b[0m\n\u001b[0;32m----> 1\u001b[0;31m \u001b[0mhistory\u001b[0m \u001b[0;34m=\u001b[0m \u001b[0mmodel_complete\u001b[0m\u001b[0;34m.\u001b[0m\u001b[0mfit\u001b[0m\u001b[0;34m(\u001b[0m\u001b[0;34m[\u001b[0m\u001b[0mX_train_1\u001b[0m\u001b[0;34m,\u001b[0m\u001b[0mX_train_2\u001b[0m\u001b[0;34m]\u001b[0m\u001b[0;34m,\u001b[0m\u001b[0;34m[\u001b[0m\u001b[0my_train_1\u001b[0m\u001b[0;34m,\u001b[0m \u001b[0my_train_2\u001b[0m\u001b[0;34m]\u001b[0m\u001b[0;34m,\u001b[0m \u001b[0mbatch_size\u001b[0m\u001b[0;34m=\u001b[0m\u001b[0;36m100\u001b[0m\u001b[0;34m,\u001b[0m\u001b[0mepochs\u001b[0m\u001b[0;34m=\u001b[0m\u001b[0;36m1000\u001b[0m\u001b[0;34m,\u001b[0m\u001b[0mvalidation_split\u001b[0m\u001b[0;34m=\u001b[0m\u001b[0;36m0.2\u001b[0m\u001b[0;34m,\u001b[0m \u001b[0mverbose\u001b[0m\u001b[0;34m=\u001b[0m\u001b[0;36m1\u001b[0m\u001b[0;34m,\u001b[0m\u001b[0mcallbacks\u001b[0m\u001b[0;34m=\u001b[0m\u001b[0;34m[\u001b[0m\u001b[0mes\u001b[0m\u001b[0;34m,\u001b[0m\u001b[0mes\u001b[0m\u001b[0;34m]\u001b[0m\u001b[0;34m)\u001b[0m\u001b[0;34m\u001b[0m\u001b[0;34m\u001b[0m\u001b[0m\n\u001b[0m",
            "\u001b[0;32m/usr/local/lib/python3.7/dist-packages/keras/utils/traceback_utils.py\u001b[0m in \u001b[0;36merror_handler\u001b[0;34m(*args, **kwargs)\u001b[0m\n\u001b[1;32m     65\u001b[0m     \u001b[0;32mexcept\u001b[0m \u001b[0mException\u001b[0m \u001b[0;32mas\u001b[0m \u001b[0me\u001b[0m\u001b[0;34m:\u001b[0m  \u001b[0;31m# pylint: disable=broad-except\u001b[0m\u001b[0;34m\u001b[0m\u001b[0;34m\u001b[0m\u001b[0m\n\u001b[1;32m     66\u001b[0m       \u001b[0mfiltered_tb\u001b[0m \u001b[0;34m=\u001b[0m \u001b[0m_process_traceback_frames\u001b[0m\u001b[0;34m(\u001b[0m\u001b[0me\u001b[0m\u001b[0;34m.\u001b[0m\u001b[0m__traceback__\u001b[0m\u001b[0;34m)\u001b[0m\u001b[0;34m\u001b[0m\u001b[0;34m\u001b[0m\u001b[0m\n\u001b[0;32m---> 67\u001b[0;31m       \u001b[0;32mraise\u001b[0m \u001b[0me\u001b[0m\u001b[0;34m.\u001b[0m\u001b[0mwith_traceback\u001b[0m\u001b[0;34m(\u001b[0m\u001b[0mfiltered_tb\u001b[0m\u001b[0;34m)\u001b[0m \u001b[0;32mfrom\u001b[0m \u001b[0;32mNone\u001b[0m\u001b[0;34m\u001b[0m\u001b[0;34m\u001b[0m\u001b[0m\n\u001b[0m\u001b[1;32m     68\u001b[0m     \u001b[0;32mfinally\u001b[0m\u001b[0;34m:\u001b[0m\u001b[0;34m\u001b[0m\u001b[0;34m\u001b[0m\u001b[0m\n\u001b[1;32m     69\u001b[0m       \u001b[0;32mdel\u001b[0m \u001b[0mfiltered_tb\u001b[0m\u001b[0;34m\u001b[0m\u001b[0;34m\u001b[0m\u001b[0m\n",
            "\u001b[0;32m/usr/local/lib/python3.7/dist-packages/tensorflow/python/eager/execute.py\u001b[0m in \u001b[0;36mquick_execute\u001b[0;34m(op_name, num_outputs, inputs, attrs, ctx, name)\u001b[0m\n\u001b[1;32m     53\u001b[0m     \u001b[0mctx\u001b[0m\u001b[0;34m.\u001b[0m\u001b[0mensure_initialized\u001b[0m\u001b[0;34m(\u001b[0m\u001b[0;34m)\u001b[0m\u001b[0;34m\u001b[0m\u001b[0;34m\u001b[0m\u001b[0m\n\u001b[1;32m     54\u001b[0m     tensors = pywrap_tfe.TFE_Py_Execute(ctx._handle, device_name, op_name,\n\u001b[0;32m---> 55\u001b[0;31m                                         inputs, attrs, num_outputs)\n\u001b[0m\u001b[1;32m     56\u001b[0m   \u001b[0;32mexcept\u001b[0m \u001b[0mcore\u001b[0m\u001b[0;34m.\u001b[0m\u001b[0m_NotOkStatusException\u001b[0m \u001b[0;32mas\u001b[0m \u001b[0me\u001b[0m\u001b[0;34m:\u001b[0m\u001b[0;34m\u001b[0m\u001b[0;34m\u001b[0m\u001b[0m\n\u001b[1;32m     57\u001b[0m     \u001b[0;32mif\u001b[0m \u001b[0mname\u001b[0m \u001b[0;32mis\u001b[0m \u001b[0;32mnot\u001b[0m \u001b[0;32mNone\u001b[0m\u001b[0;34m:\u001b[0m\u001b[0;34m\u001b[0m\u001b[0;34m\u001b[0m\u001b[0m\n",
            "\u001b[0;31mInvalidArgumentError\u001b[0m: Graph execution error:\n\nDetected at node 'gradient_tape/binary_crossentropy/mul/Mul' defined at (most recent call last):\n    File \"/usr/lib/python3.7/runpy.py\", line 193, in _run_module_as_main\n      \"__main__\", mod_spec)\n    File \"/usr/lib/python3.7/runpy.py\", line 85, in _run_code\n      exec(code, run_globals)\n    File \"/usr/local/lib/python3.7/dist-packages/ipykernel_launcher.py\", line 16, in <module>\n      app.launch_new_instance()\n    File \"/usr/local/lib/python3.7/dist-packages/traitlets/config/application.py\", line 846, in launch_instance\n      app.start()\n    File \"/usr/local/lib/python3.7/dist-packages/ipykernel/kernelapp.py\", line 499, in start\n      self.io_loop.start()\n    File \"/usr/local/lib/python3.7/dist-packages/tornado/platform/asyncio.py\", line 132, in start\n      self.asyncio_loop.run_forever()\n    File \"/usr/lib/python3.7/asyncio/base_events.py\", line 541, in run_forever\n      self._run_once()\n    File \"/usr/lib/python3.7/asyncio/base_events.py\", line 1786, in _run_once\n      handle._run()\n    File \"/usr/lib/python3.7/asyncio/events.py\", line 88, in _run\n      self._context.run(self._callback, *self._args)\n    File \"/usr/local/lib/python3.7/dist-packages/tornado/platform/asyncio.py\", line 122, in _handle_events\n      handler_func(fileobj, events)\n    File \"/usr/local/lib/python3.7/dist-packages/tornado/stack_context.py\", line 300, in null_wrapper\n      return fn(*args, **kwargs)\n    File \"/usr/local/lib/python3.7/dist-packages/zmq/eventloop/zmqstream.py\", line 452, in _handle_events\n      self._handle_recv()\n    File \"/usr/local/lib/python3.7/dist-packages/zmq/eventloop/zmqstream.py\", line 481, in _handle_recv\n      self._run_callback(callback, msg)\n    File \"/usr/local/lib/python3.7/dist-packages/zmq/eventloop/zmqstream.py\", line 431, in _run_callback\n      callback(*args, **kwargs)\n    File \"/usr/local/lib/python3.7/dist-packages/tornado/stack_context.py\", line 300, in null_wrapper\n      return fn(*args, **kwargs)\n    File \"/usr/local/lib/python3.7/dist-packages/ipykernel/kernelbase.py\", line 283, in dispatcher\n      return self.dispatch_shell(stream, msg)\n    File \"/usr/local/lib/python3.7/dist-packages/ipykernel/kernelbase.py\", line 233, in dispatch_shell\n      handler(stream, idents, msg)\n    File \"/usr/local/lib/python3.7/dist-packages/ipykernel/kernelbase.py\", line 399, in execute_request\n      user_expressions, allow_stdin)\n    File \"/usr/local/lib/python3.7/dist-packages/ipykernel/ipkernel.py\", line 208, in do_execute\n      res = shell.run_cell(code, store_history=store_history, silent=silent)\n    File \"/usr/local/lib/python3.7/dist-packages/ipykernel/zmqshell.py\", line 537, in run_cell\n      return super(ZMQInteractiveShell, self).run_cell(*args, **kwargs)\n    File \"/usr/local/lib/python3.7/dist-packages/IPython/core/interactiveshell.py\", line 2718, in run_cell\n      interactivity=interactivity, compiler=compiler, result=result)\n    File \"/usr/local/lib/python3.7/dist-packages/IPython/core/interactiveshell.py\", line 2822, in run_ast_nodes\n      if self.run_code(code, result):\n    File \"/usr/local/lib/python3.7/dist-packages/IPython/core/interactiveshell.py\", line 2882, in run_code\n      exec(code_obj, self.user_global_ns, self.user_ns)\n    File \"<ipython-input-129-6bef972acfa2>\", line 1, in <module>\n      history = model_complete.fit([X_train_1,X_train_2],[y_train_1, y_train_2], batch_size=100,epochs=1000,validation_split=0.2, verbose=1,callbacks=[es,es])\n    File \"/usr/local/lib/python3.7/dist-packages/keras/utils/traceback_utils.py\", line 64, in error_handler\n      return fn(*args, **kwargs)\n    File \"/usr/local/lib/python3.7/dist-packages/keras/engine/training.py\", line 1384, in fit\n      tmp_logs = self.train_function(iterator)\n    File \"/usr/local/lib/python3.7/dist-packages/keras/engine/training.py\", line 1021, in train_function\n      return step_function(self, iterator)\n    File \"/usr/local/lib/python3.7/dist-packages/keras/engine/training.py\", line 1010, in step_function\n      outputs = model.distribute_strategy.run(run_step, args=(data,))\n    File \"/usr/local/lib/python3.7/dist-packages/keras/engine/training.py\", line 1000, in run_step\n      outputs = model.train_step(data)\n    File \"/usr/local/lib/python3.7/dist-packages/keras/engine/training.py\", line 863, in train_step\n      self.optimizer.minimize(loss, self.trainable_variables, tape=tape)\n    File \"/usr/local/lib/python3.7/dist-packages/keras/optimizer_v2/optimizer_v2.py\", line 531, in minimize\n      loss, var_list=var_list, grad_loss=grad_loss, tape=tape)\n    File \"/usr/local/lib/python3.7/dist-packages/keras/optimizer_v2/optimizer_v2.py\", line 583, in _compute_gradients\n      grads_and_vars = self._get_gradients(tape, loss, var_list, grad_loss)\n    File \"/usr/local/lib/python3.7/dist-packages/keras/optimizer_v2/optimizer_v2.py\", line 464, in _get_gradients\n      grads = tape.gradient(loss, var_list, grad_loss)\nNode: 'gradient_tape/binary_crossentropy/mul/Mul'\nrequired broadcastable shapes\n\t [[{{node gradient_tape/binary_crossentropy/mul/Mul}}]] [Op:__inference_train_function_419589]"
          ]
        }
      ],
      "source": [
        "history = model_complete.fit([X_train_1,X_train_2],[y_train_1, y_train_2], batch_size=100,epochs=1000,validation_split=0.2, verbose=1,callbacks=[es,es])"
      ]
    },
    {
      "cell_type": "code",
      "execution_count": null,
      "metadata": {
        "colab": {
          "base_uri": "https://localhost:8080/",
          "height": 1000
        },
        "id": "T-LT5VKYrNcL",
        "outputId": "b79a3492-133d-4d38-d188-1e7340458aaa"
      },
      "outputs": [
        {
          "name": "stdout",
          "output_type": "stream",
          "text": [
            "27\n"
          ]
        },
        {
          "data": {
            "image/png": "[encoded data removed]"
          },
          "metadata": {},
          "output_type": "display_data"
        },
        {
          "data": {
            "image/png": "[encoded data removed]"
          },
          "metadata": {},
          "output_type": "display_data"
        },
        {
          "data": {
            "image/png": "[encoded data removed]"
          },
          "metadata": {},
          "output_type": "display_data"
        },
        {
          "name": "stdout",
          "output_type": "stream",
          "text": [
            "1\n"
          ]
        },
        {
          "data": {
            "image/png": "[encoded data removed]"
          },
          "metadata": {},
          "output_type": "display_data"
        },
        {
          "data": {
            "image/png": "[encoded data removed]"
          },
          "metadata": {},
          "output_type": "display_data"
        },
        {
          "data": {
            "image/png": "[encoded data removed]"
          },
          "metadata": {},
          "output_type": "display_data"
        },
        {
          "name": "stdout",
          "output_type": "stream",
          "text": [
            "77\n"
          ]
        },
        {
          "data": {
            "image/png": "[encoded data removed]"
          },
          "metadata": {},
          "output_type": "display_data"
        },
        {
          "data": {
            "image/png": "[encoded data removed]"
          },
          "metadata": {},
          "output_type": "display_data"
        },
        {
          "data": {
            "image/png": "[encoded data removed]"
          },
          "metadata": {},
          "output_type": "display_data"
        },
        {
          "name": "stdout",
          "output_type": "stream",
          "text": [
            "30\n"
          ]
        },
        {
          "data": {
            "image/png": "[encoded data removed]"
          },
          "metadata": {},
          "output_type": "display_data"
        },
        {
          "data": {
            "image/png": "[encoded data removed]"
          },
          "metadata": {},
          "output_type": "display_data"
        },
        {
          "data": {
            "image/png": "[encoded data removed]"
          },
          "metadata": {},
          "output_type": "display_data"
        },
        {
          "name": "stdout",
          "output_type": "stream",
          "text": [
            "91\n"
          ]
        },
        {
          "data": {
            "image/png": "[encoded data removed]"
          },
          "metadata": {},
          "output_type": "display_data"
        },
        {
          "data": {
            "image/png": "[encoded data removed]"
          },
          "metadata": {},
          "output_type": "display_data"
        },
        {
          "data": {
            "image/png": "[encoded data removed]"
          },
          "metadata": {},
          "output_type": "display_data"
        },
        {
          "name": "stdout",
          "output_type": "stream",
          "text": [
            "79\n"
          ]
        },
        {
          "data": {
            "image/png": "[encoded data removed]"
          },
          "metadata": {},
          "output_type": "display_data"
        },
        {
          "data": {
            "image/png": "[encoded data removed]"
          },
          "metadata": {},
          "output_type": "display_data"
        },
        {
          "data": {
            "image/png": "[encoded data removed]"
          },
          "metadata": {},
          "output_type": "display_data"
        },
        {
          "name": "stdout",
          "output_type": "stream",
          "text": [
            "41\n"
          ]
        },
        {
          "data": {
            "image/png": "[encoded data removed]"
          },
          "metadata": {},
          "output_type": "display_data"
        },
        {
          "data": {
            "image/png": "[encoded data removed]"
          },
          "metadata": {},
          "output_type": "display_data"
        },
        {
          "data": {
            "image/png": "[encoded data removed]"
          },
          "metadata": {},
          "output_type": "display_data"
        },
        {
          "name": "stdout",
          "output_type": "stream",
          "text": [
            "5\n"
          ]
        },
        {
          "data": {
            "image/png": "[encoded data removed]"
          },
          "metadata": {},
          "output_type": "display_data"
        },
        {
          "data": {
            "image/png": "[encoded data removed]"
          },
          "metadata": {},
          "output_type": "display_data"
        },
        {
          "data": {
            "image/png": "[encoded data removed]"
          },
          "metadata": {},
          "output_type": "display_data"
        },
        {
          "name": "stdout",
          "output_type": "stream",
          "text": [
            "17\n"
          ]
        },
        {
          "data": {
            "image/png": "[encoded data removed]"
          },
          "metadata": {},
          "output_type": "display_data"
        },
        {
          "data": {
            "image/png": "[encoded data removed]"
          },
          "metadata": {},
          "output_type": "display_data"
        },
        {
          "data": {
            "image/png": "[encoded data removed]"
          },
          "metadata": {},
          "output_type": "display_data"
        },
        {
          "name": "stdout",
          "output_type": "stream",
          "text": [
            "23\n"
          ]
        },
        {
          "data": {
            "image/png": "[encoded data removed]"
          },
          "metadata": {},
          "output_type": "display_data"
        },
        {
          "data": {
            "image/png": "[encoded data removed]"
          },
          "metadata": {},
          "output_type": "display_data"
        },
        {
          "data": {
            "image/png": "[encoded data removed]"
          },
          "metadata": {},
          "output_type": "display_data"
        }
      ],
      "source": [
        "for _ in range(10):\n",
        "    ind = random.randint(0, len(X_test_1)-1)\n",
        "    print(ind)\n",
        "    image_predicted_1 = X_test_1[ind].copy()\n",
        "    image_predicted_1 = image_predicted_1.reshape((28, 28))\n",
        "    image_predicted_1 = image_predicted_1 * 255\n",
        "    image_predicted_1 = image_predicted_1.astype('uint8')\n",
        "    dp.display_png(Image.fromarray(image_predicted_1))\n",
        "    image_predicted_2 = X_test_2[ind].copy()\n",
        "    image_predicted_2 = image_predicted_2.reshape((28, 28))\n",
        "    image_predicted_2 = image_predicted_2 * 255\n",
        "    image_predicted_2 = image_predicted_2.astype('uint8')\n",
        "    dp.display_png(Image.fromarray(image_predicted_2))\n",
        "    p,q = model_complete.predict([X_test_1[ind].reshape(1, 28, 28, 1), X_test_2[ind].reshape(1, 28, 28, 1)] )\n",
        "    image_resulted = q\n",
        "    image_resulted = image_resulted.reshape((28, 28))\n",
        "    image_resulted = image_resulted * 255\n",
        "    image_resulted = image_resulted.astype('uint8')\n",
        "    dp.display_png(Image.fromarray(image_resulted))\n",
        "\n",
        "    #print(\"Prediction for %s: %s\" % (y_test[ind], p))"
      ]
    }
  ],
  "metadata": {
    "accelerator": "GPU",
    "colab": {
      "collapsed_sections": [],
      "name": "New_MNIST.ipynb",
      "provenance": [],
      "include_colab_link": true
    },
    "kernelspec": {
      "display_name": "Python 3",
      "name": "python3"
    },
    "language_info": {
      "name": "python"
    }
  },
  "nbformat": 4,
  "nbformat_minor": 0
}